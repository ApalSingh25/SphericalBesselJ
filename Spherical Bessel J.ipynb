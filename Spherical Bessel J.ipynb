{
 "cells": [
  {
   "cell_type": "markdown",
   "metadata": {},
   "source": [
    "We would like to reconcile Rayleigh's formula for spherical Bessel functions of the first kind $j_n(z) = (-1)^nz^n\\left(\\frac{d}{zdz}\\right)^n\\frac{sinz}{z}$ with the recursive definition $j_n(z) = \\sqrt{\\frac{\\pi}{2}}\\sqrt{\\frac{1}{z}}J_{n+\\frac{1}{2}}(z)$. Rayleigh's formula is uniquely determined but ambiguity arises in the recursive definition because of the term $\\sqrt{\\frac{1}{z}}$, since the square root function is multivalued for negative real arguments. We find that this problem is resolved by taking the principal root of $\\sqrt{\\frac{1}{z}}$. The same approach should be taken when computing spherical Bessel functions of the second kind."
   ]
  },
  {
   "cell_type": "code",
   "execution_count": 1,
   "metadata": {},
   "outputs": [],
   "source": [
    "import mpmath\n",
    "import math\n",
    "import time\n",
    "import sympy\n",
    "from sympy.abc import x"
   ]
  },
  {
   "cell_type": "code",
   "execution_count": 2,
   "metadata": {},
   "outputs": [],
   "source": [
    "def sbesseljrayleigh(n,z):\n",
    "    y = sympy.sin(x)/x\n",
    "    for i in range(n):\n",
    "        \n",
    "        y = sympy.diff(y, x)\n",
    "        y = y/x\n",
    "        \n",
    "    return float(((-1)**n)*(z**n)*y.subs(x,z))"
   ]
  },
  {
   "cell_type": "code",
   "execution_count": 3,
   "metadata": {},
   "outputs": [],
   "source": [
    "def sbesseljrecursive(n,z):\n",
    "    if z < 0:\n",
    "        z1 = float(mpmath.mpc(mpmath.sqrt(1/z)).imag) #Note that mpmath.sqrt() returns the principal root\n",
    "        z2 = float(mpmath.mpc(mpmath.besselj(n+.5,z)).imag)\n",
    "    else:\n",
    "        z1 = float(mpmath.mpc(mpmath.sqrt(1/z)).real) \n",
    "        z2 = float(mpmath.mpc(mpmath.besselj(n+.5,z)).real)\n",
    "        \n",
    "    return float(math.sqrt(math.pi/2)*z1*z2) "
   ]
  },
  {
   "cell_type": "markdown",
   "metadata": {},
   "source": [
    "In order to show that the proper branch was selected, we now find the difference between sbesseljrayleigh(n,z) and sbesselrecursize(n,z) first for a fixed n and multiple values of z, then for a fixed z and multipled values of n and observe that the difference between the outputs of the two functions is always 0. We use a threshhold of 1.0e-16 here in order to account for round-off error. "
   ]
  },
  {
   "cell_type": "code",
   "execution_count": 4,
   "metadata": {},
   "outputs": [
    {
     "name": "stdout",
     "output_type": "stream",
     "text": [
      "sbesseljrayleigh matches sbesselrecursive for n fixed as above and several choices of z\n"
     ]
    }
   ],
   "source": [
    "n = 3\n",
    "P = True\n",
    "for z in range(1,100):\n",
    "    y = sbesseljrayleigh(n,-z) - sbesseljrecursive(n,-z)\n",
    "    if (abs(y) >= 1.0e-16):\n",
    "        P = False\n",
    "        print(\"Error\")\n",
    "if P == True:\n",
    "    print(\"sbesseljrayleigh matches sbesselrecursive for n fixed as above and several choices of z\")"
   ]
  },
  {
   "cell_type": "code",
   "execution_count": 5,
   "metadata": {},
   "outputs": [
    {
     "name": "stdout",
     "output_type": "stream",
     "text": [
      "sbesselrayleigh matches sbesselrecursive for z fixed as above and several choices of n\n"
     ]
    }
   ],
   "source": [
    "z = -5\n",
    "Q = True\n",
    "for n in range(0,13):\n",
    "    y = sbesseljrayleigh(n,z) - sbesseljrecursive(n,z)\n",
    "    if (abs(y) >= 1.0e-16):\n",
    "        Q = False\n",
    "        print(\"Error\")\n",
    "if Q == True:\n",
    "    print(\"sbesselrayleigh matches sbesselrecursive for z fixed as above and several choices of n\")"
   ]
  },
  {
   "cell_type": "markdown",
   "metadata": {},
   "source": [
    "Something to note is that Rayleigh's formula is far more computationally intensive. We demonstrate this by computing sbesseljrayleigh(n,z) and sbesseljrecursive(n,z) each multiple times for the same arguments and comparing the average time taken for the computation by each."
   ]
  },
  {
   "cell_type": "code",
   "execution_count": 6,
   "metadata": {},
   "outputs": [
    {
     "name": "stdout",
     "output_type": "stream",
     "text": [
      "sbesseljrayleigh(8,-50):  Value = 0.008873749108227509 and average computation time = 0.04179 seconds.\n",
      "sbesseljrecursive(8,-50): Value = 0.008873749108227507 and average computation time = 0.00099 seconds.\n"
     ]
    }
   ],
   "source": [
    "T1 = 0.0\n",
    "T2 = 0.0\n",
    "trials = 50\n",
    "n = 8\n",
    "z = -50\n",
    "\n",
    "for k in range(trials):\n",
    "    t1 = time.clock()\n",
    "    s1 = sbesseljrayleigh(n,z)\n",
    "    t2 = time.clock()\n",
    "    T1 = T1 + (t2 - t1)\n",
    "message = 'sbesseljrayleigh({},{}):  Value = {} and average computation time = {} seconds.'.format(n,z,s1,round(T1/trials,5))\n",
    "print(message)\n",
    "\n",
    "for k in range(trials):\n",
    "    t3 = time.clock()\n",
    "    s2 = sbesseljrecursive(n,z)\n",
    "    t4 = time.clock()\n",
    "    T2 = T2 + (t4 - t3)\n",
    "message = 'sbesseljrecursive({},{}): Value = {} and average computation time = {} seconds.'.format(n,z,s2,round(T2/trials,5))\n",
    "print(message)"
   ]
  },
  {
   "cell_type": "markdown",
   "metadata": {},
   "source": [
    "Another observation we can make is that $j_n(z)$ has the same parity as $n$ for $z \\in \\mathbb{R}$. One way to do so would be to use, say, sbesseljrecursive(n,z) to see $j_n(z) - j_n(-z) = 0$ for n even and $j_n(z) + j_n(-z) = 0$ for n odd. Another way is to use yet another definition of $j_n(z)$, the power series representation $${j}_{n}\\left(z\\right)=z^{n}\\sum_{k=0}^{\\infty}\\frac{(-\\frac{1}{2}z^{2})\n",
    "^{k}}{k!(2n+2k+1)!!}$$ from which the desired result follows immediately. By a similar analysis, we find that $y_n(z)$, the spherical Bessel function of the second kind, is odd for n even and even for n odd. Thus, the spherical Hankel function of the first kind $h_n^{(1)}(z) = j_n(z) + iy_n(z)$, as well as the spherical Hankel function of the second kind $h_n^{(2)}(z) = j_n(z) - iy_n(z)$, is conjugate symmetric (i.e. Hermitian) over the reals if and only if n is even. "
   ]
  }
 ],
 "metadata": {
  "kernelspec": {
   "display_name": "Python 3",
   "language": "python",
   "name": "python3"
  },
  "language_info": {
   "codemirror_mode": {
    "name": "ipython",
    "version": 3
   },
   "file_extension": ".py",
   "mimetype": "text/x-python",
   "name": "python",
   "nbconvert_exporter": "python",
   "pygments_lexer": "ipython3",
   "version": "3.6.3"
  }
 },
 "nbformat": 4,
 "nbformat_minor": 2
}
